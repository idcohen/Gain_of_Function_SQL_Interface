{
 "cells": [
  {
   "cell_type": "markdown",
   "id": "2d1f9d01-2dc4-4038-a7e5-37a0be957cf0",
   "metadata": {},
   "source": [
    "#### SQL few shot example\n",
    "https://python.langchain.com/docs/use_cases/qa_structured/sql"
   ]
  },
  {
   "cell_type": "code",
   "execution_count": 9,
   "id": "3e0227d2-4f93-4a85-bc1a-4aa4a7dbebb8",
   "metadata": {},
   "outputs": [],
   "source": [
    "import os\n",
    "import sys\n",
    "import getpass\n",
    "from dotenv import load_dotenv, dotenv_values\n",
    "import pandas as pd\n",
    "import openai\n",
    "\n",
    "from IPython.display import display, Markdown, Latex, HTML, JSON\n",
    "import sqlite3\n",
    "from sqlite3 import Error\n",
    "import pymysql\n",
    "from sqlalchemy import create_engine, text as sql_text\n",
    "\n",
    "import langchain\n",
    "from langchain.llms import OpenAI\n",
    "from langchain.prompts import PromptTemplate\n",
    "from langchain.chains import LLMChain\n",
    "\n",
    "from cmd import PROMPT\n",
    "from pyexpat.errors import messages\n",
    "\n",
    "import tiktoken\n",
    "\n",
    "from langchain.embeddings.openai import OpenAIEmbeddings\n",
    "from langchain.vectorstores import FAISS\n",
    "from langchain.schema import Document\n",
    "\n",
    "sys.path.append(r\"/Users/dovcohen/Documents/Projects/AI/NL2SQL\")\n",
    "\n",
    "from OpenAI.NL2SQL.lib_OpenAI import GenAI_NL2SQL\n"
   ]
  },
  {
   "cell_type": "code",
   "execution_count": 10,
   "id": "2f08443e-8f66-417a-bc5d-a0b46178957c",
   "metadata": {},
   "outputs": [],
   "source": [
    "def Instantiate_OpenAI_Class(Model=\"gpt-3.5-turbo-instruct\", Max_Tokens=250, Encoding_Base = \"cl100k_base\",Temperature=0):\n",
    "    load_dotenv(\"/Users/dovcohen/.NL2SQL_env\")\n",
    "    # SQL DB\n",
    "    DB = 'mysql'\n",
    "    MYSQL_USER = os.getenv(\"MYSQL_USER\", None)\n",
    "    MYSQL_PWD = os.getenv(\"MYSQL_PWD\", None)\n",
    "\n",
    "    # OpenAI\n",
    "    OPENAI_API_KEY = os.getenv(\"OPENAI_API_KEY\", None)\n",
    "    # LLM parameters\n",
    "   # Model = [\"gpt-3.5-turbo-instruct\",'text-embedding-ada-002']\n",
    "    Token_Cost = {\"gpt-3.5-turbo-instruct\":{\"Input\":0.0015/1000,\"Output\":0.002/1000},\n",
    "                 \"text-embedding-ada-002\":{\"Input\":0.0001/1000}}\n",
    "    \n",
    "\n",
    "    #Instantiate GenAI_NL2SQL Object\n",
    "    return GenAI_NL2SQL(OPENAI_API_KEY, Model, Encoding_Base, Max_Tokens, Temperature, \\\n",
    "                        Token_Cost,DB, MYSQL_USER, MYSQL_PWD)\n",
    "\n"
   ]
  },
  {
   "cell_type": "code",
   "execution_count": 11,
   "id": "2197cfb7-e239-46db-9c4b-708b6c90ad52",
   "metadata": {},
   "outputs": [
    {
     "data": {
      "text/html": [
       "<div>\n",
       "<style scoped>\n",
       "    .dataframe tbody tr th:only-of-type {\n",
       "        vertical-align: middle;\n",
       "    }\n",
       "\n",
       "    .dataframe tbody tr th {\n",
       "        vertical-align: top;\n",
       "    }\n",
       "\n",
       "    .dataframe thead th {\n",
       "        text-align: right;\n",
       "    }\n",
       "</style>\n",
       "<table border=\"1\" class=\"dataframe\">\n",
       "  <thead>\n",
       "    <tr style=\"text-align: right;\">\n",
       "      <th></th>\n",
       "      <th>Name</th>\n",
       "      <th>Age</th>\n",
       "    </tr>\n",
       "  </thead>\n",
       "  <tbody>\n",
       "    <tr>\n",
       "      <th>0</th>\n",
       "      <td>tom</td>\n",
       "      <td>10</td>\n",
       "    </tr>\n",
       "    <tr>\n",
       "      <th>1</th>\n",
       "      <td>nick</td>\n",
       "      <td>15</td>\n",
       "    </tr>\n",
       "    <tr>\n",
       "      <th>2</th>\n",
       "      <td>juli</td>\n",
       "      <td>14</td>\n",
       "    </tr>\n",
       "  </tbody>\n",
       "</table>\n",
       "</div>"
      ],
      "text/plain": [
       "   Name  Age\n",
       "0   tom   10\n",
       "1  nick   15\n",
       "2  juli   14"
      ]
     },
     "execution_count": 11,
     "metadata": {},
     "output_type": "execute_result"
    }
   ],
   "source": [
    "ADA=Instantiate_OpenAI_Class( Model = 'text-embedding-ada-002')\n",
    "\n",
    "data = [['tom', 10], ['nick', 15], ['juli', 14]] \n",
    "  \n",
    "# Create the pandas DataFrame \n",
    "df = pd.DataFrame(data, columns=['Name', 'Age']) \n",
    "  \n",
    "# print dataframe. \n",
    "df \n",
    "\n"
   ]
  },
  {
   "cell_type": "markdown",
   "id": "40f87620-7e57-41a9-b350-6daa358fbe36",
   "metadata": {},
   "source": [
    "### Embeddings Tutorial\n",
    "https://cookbook.openai.com/examples/get_embeddings_from_dataset\n",
    "\n",
    "The dataset used in this example is fine-food reviews from Amazon. The dataset contains a total of 568,454 food reviews Amazon users left up to October 2012. We will use a subset of this dataset, consisting of 1,000 most recent reviews for illustration purposes. The reviews are in English and tend to be positive or negative. Each review has a ProductId, UserId, Score, review title (Summary) and review body (Text).\n",
    "\n",
    "We will combine the review summary and review text into a single combined text. The model will encode this combined text and it will output a single vector embedding.\n",
    "\n",
    "To run this notebook, you will need to install: pandas, openai, transformers, plotly, matplotlib, scikit-learn, torch (transformer dep), torchvision, and scipy.\n",
    "\n"
   ]
  },
  {
   "cell_type": "code",
   "execution_count": 6,
   "id": "6e8f5b7b-5899-4261-8b1f-a5d9cb217bd5",
   "metadata": {},
   "outputs": [],
   "source": [
    "max_tokens = 8000\n",
    "Datafile =  '/Users/dovcohen/Documents/Projects/Data/Amazon_Fine_Food_Reviews/Reviews.csv'\n",
    "#\n",
    "#Datafile =  '/Users/dovcohen/Documents/Projects/Data/Amazon_Fine_Food_Reviews/Reviews_Combined_Text.csv'\n",
    "df = pd.read_csv(Datafile,index_col=0)\n",
    "df = df[[\"Time\", \"ProductId\", \"UserId\", \"Score\", \"Summary\", \"Text\"]]\n",
    "df = df.dropna()\n",
    "df[\"Combined\"] = (\n",
    "    \"Title: \" + df.Summary.str.strip() + \"; Content: \" + df.Text.str.strip()\n",
    ")\n",
    "#df.head(2)\n",
    "top_n = 1000\n",
    "df = df.sort_values(\"Time\").tail(top_n * 2)  # first cut to first 2k entries, assuming less than half will be filtered out\n",
    "df.drop(\"Time\", axis=1, inplace=True)\n",
    "\n",
    "encoding = tiktoken.get_encoding(\"cl100k_base\")\n",
    "\n",
    "# omit reviews that are too long to embed\n",
    "df[\"n_tokens\"] = df.Combined.apply(lambda x: len(encoding.encode(x)))\n",
    "df = df[df.n_tokens <= max_tokens].tail(top_n)\n",
    "len(df)\n",
    "df.head(5)\n",
    "Datafile =  '/Users/dovcohen/Documents/Projects/Data/Amazon_Fine_Food_Reviews/Reviews_1k_tokens.csv'\n",
    "df.to_csv(Datafile, encoding='utf-8', index=False)\n"
   ]
  },
  {
   "cell_type": "code",
   "execution_count": 17,
   "id": "00dbbf42-dc9e-4753-a71b-32386b7fc4fe",
   "metadata": {},
   "outputs": [
    {
     "name": "stdout",
     "output_type": "stream",
     "text": [
      "    ProductId          UserId  Score  \\\n",
      "0  B003XPF9BO  A3R7JR3FMEBXQB      5   \n",
      "1  B003JK537S  A3JBPC3WFUT5ZP      1   \n",
      "2  B000JMBE7M   AQX1N6A51QOKG      4   \n",
      "3  B004AHGBX4  A2UY46X0OSNVUQ      3   \n",
      "4  B001BORBHO  A1AFOYZ9HSM2CZ      5   \n",
      "\n",
      "                                             Summary  \\\n",
      "0  where does one  start...and stop... with a tre...   \n",
      "1                                  Arrived in pieces   \n",
      "2          It isn't blanc mange, but isn't bad . . .   \n",
      "3        These also have SALT and it's not sea salt.   \n",
      "4                             Happy with the product   \n",
      "\n",
      "                                                Text  \\\n",
      "0  Wanted to save some to bring to my Chicago fam...   \n",
      "1  Not pleased at all. When I opened the box, mos...   \n",
      "2  I'm not sure that custard is really custard wi...   \n",
      "3  I like the fact that you can see what you're g...   \n",
      "4  My dog was suffering with itchy skin.  He had ...   \n",
      "\n",
      "                                            Combined  n_tokens  \n",
      "0  Title: where does one  start...and stop... wit...        52  \n",
      "1  Title: Arrived in pieces; Content: Not pleased...        35  \n",
      "2  Title: It isn't blanc mange, but isn't bad . ....       267  \n",
      "3  Title: These also have SALT and it's not sea s...       239  \n",
      "4  Title: Happy with the product; Content: My dog...        86  \n"
     ]
    }
   ],
   "source": [
    "Datafile =  '/Users/dovcohen/Documents/Projects/Data/Amazon_Fine_Food_Reviews/Reviews_1k_tokens.csv'\n",
    "df = pd.read_csv(Datafile,index_col=0)\n",
    "\n",
    "df1 = df.reset_index()\n",
    "df2 = df1.iloc[0:5]\n",
    "#x = df['Combined'][0:5]\n",
    "#x.iloc[2]\n",
    "#Embed.OpenAI_Get_Embedding(x)\n",
    "#openai.Embedding.create(input = x[0], model=\"text-embedding-ada-002\")['data'][0]['embedding']\n",
    "#openai.Embedding.create(input = x, model=model)['data'][0]['embedding']\n",
    "#df2['ada_embedding'] = df2.Combined.apply(lambda x: ADA.OpenAI_Get_Embedding(x))\n",
    "print(df2)\n",
    "#df.to_csv('output/embedded_1k_reviews.csv', index=False)"
   ]
  },
  {
   "cell_type": "code",
   "execution_count": 19,
   "id": "28c28e96-c962-456b-9a06-ab11d1abb0e5",
   "metadata": {},
   "outputs": [],
   "source": [
    "df2 = df2.reset_index()\n",
    "df2['ada_embedding'] = df2.Combined.apply(lambda x: ADA.OpenAI_Get_Embedding(x))\n"
   ]
  },
  {
   "cell_type": "code",
   "execution_count": 20,
   "id": "b2262670-625b-4c75-85ff-44c21a3094c3",
   "metadata": {},
   "outputs": [
    {
     "data": {
      "text/html": [
       "<div>\n",
       "<style scoped>\n",
       "    .dataframe tbody tr th:only-of-type {\n",
       "        vertical-align: middle;\n",
       "    }\n",
       "\n",
       "    .dataframe tbody tr th {\n",
       "        vertical-align: top;\n",
       "    }\n",
       "\n",
       "    .dataframe thead th {\n",
       "        text-align: right;\n",
       "    }\n",
       "</style>\n",
       "<table border=\"1\" class=\"dataframe\">\n",
       "  <thead>\n",
       "    <tr style=\"text-align: right;\">\n",
       "      <th></th>\n",
       "      <th>index</th>\n",
       "      <th>ProductId</th>\n",
       "      <th>UserId</th>\n",
       "      <th>Score</th>\n",
       "      <th>Summary</th>\n",
       "      <th>Text</th>\n",
       "      <th>Combined</th>\n",
       "      <th>n_tokens</th>\n",
       "      <th>ada_embedding</th>\n",
       "    </tr>\n",
       "  </thead>\n",
       "  <tbody>\n",
       "    <tr>\n",
       "      <th>0</th>\n",
       "      <td>0</td>\n",
       "      <td>B003XPF9BO</td>\n",
       "      <td>A3R7JR3FMEBXQB</td>\n",
       "      <td>5</td>\n",
       "      <td>where does one  start...and stop... with a tre...</td>\n",
       "      <td>Wanted to save some to bring to my Chicago fam...</td>\n",
       "      <td>Title: where does one  start...and stop... wit...</td>\n",
       "      <td>52</td>\n",
       "      <td>[0.007060592994093895, -0.02732112631201744, 0...</td>\n",
       "    </tr>\n",
       "    <tr>\n",
       "      <th>1</th>\n",
       "      <td>1</td>\n",
       "      <td>B003JK537S</td>\n",
       "      <td>A3JBPC3WFUT5ZP</td>\n",
       "      <td>1</td>\n",
       "      <td>Arrived in pieces</td>\n",
       "      <td>Not pleased at all. When I opened the box, mos...</td>\n",
       "      <td>Title: Arrived in pieces; Content: Not pleased...</td>\n",
       "      <td>35</td>\n",
       "      <td>[-0.023609420284628868, -0.011784634552896023,...</td>\n",
       "    </tr>\n",
       "    <tr>\n",
       "      <th>2</th>\n",
       "      <td>2</td>\n",
       "      <td>B000JMBE7M</td>\n",
       "      <td>AQX1N6A51QOKG</td>\n",
       "      <td>4</td>\n",
       "      <td>It isn't blanc mange, but isn't bad . . .</td>\n",
       "      <td>I'm not sure that custard is really custard wi...</td>\n",
       "      <td>Title: It isn't blanc mange, but isn't bad . ....</td>\n",
       "      <td>267</td>\n",
       "      <td>None</td>\n",
       "    </tr>\n",
       "    <tr>\n",
       "      <th>3</th>\n",
       "      <td>3</td>\n",
       "      <td>B004AHGBX4</td>\n",
       "      <td>A2UY46X0OSNVUQ</td>\n",
       "      <td>3</td>\n",
       "      <td>These also have SALT and it's not sea salt.</td>\n",
       "      <td>I like the fact that you can see what you're g...</td>\n",
       "      <td>Title: These also have SALT and it's not sea s...</td>\n",
       "      <td>239</td>\n",
       "      <td>[0.010532955639064312, -0.01354704238474369, 0...</td>\n",
       "    </tr>\n",
       "    <tr>\n",
       "      <th>4</th>\n",
       "      <td>4</td>\n",
       "      <td>B001BORBHO</td>\n",
       "      <td>A1AFOYZ9HSM2CZ</td>\n",
       "      <td>5</td>\n",
       "      <td>Happy with the product</td>\n",
       "      <td>My dog was suffering with itchy skin.  He had ...</td>\n",
       "      <td>Title: Happy with the product; Content: My dog...</td>\n",
       "      <td>86</td>\n",
       "      <td>[0.015255776233971119, -0.003898625960573554, ...</td>\n",
       "    </tr>\n",
       "  </tbody>\n",
       "</table>\n",
       "</div>"
      ],
      "text/plain": [
       "   index   ProductId          UserId  Score  \\\n",
       "0      0  B003XPF9BO  A3R7JR3FMEBXQB      5   \n",
       "1      1  B003JK537S  A3JBPC3WFUT5ZP      1   \n",
       "2      2  B000JMBE7M   AQX1N6A51QOKG      4   \n",
       "3      3  B004AHGBX4  A2UY46X0OSNVUQ      3   \n",
       "4      4  B001BORBHO  A1AFOYZ9HSM2CZ      5   \n",
       "\n",
       "                                             Summary  \\\n",
       "0  where does one  start...and stop... with a tre...   \n",
       "1                                  Arrived in pieces   \n",
       "2          It isn't blanc mange, but isn't bad . . .   \n",
       "3        These also have SALT and it's not sea salt.   \n",
       "4                             Happy with the product   \n",
       "\n",
       "                                                Text  \\\n",
       "0  Wanted to save some to bring to my Chicago fam...   \n",
       "1  Not pleased at all. When I opened the box, mos...   \n",
       "2  I'm not sure that custard is really custard wi...   \n",
       "3  I like the fact that you can see what you're g...   \n",
       "4  My dog was suffering with itchy skin.  He had ...   \n",
       "\n",
       "                                            Combined  n_tokens  \\\n",
       "0  Title: where does one  start...and stop... wit...        52   \n",
       "1  Title: Arrived in pieces; Content: Not pleased...        35   \n",
       "2  Title: It isn't blanc mange, but isn't bad . ....       267   \n",
       "3  Title: These also have SALT and it's not sea s...       239   \n",
       "4  Title: Happy with the product; Content: My dog...        86   \n",
       "\n",
       "                                       ada_embedding  \n",
       "0  [0.007060592994093895, -0.02732112631201744, 0...  \n",
       "1  [-0.023609420284628868, -0.011784634552896023,...  \n",
       "2                                               None  \n",
       "3  [0.010532955639064312, -0.01354704238474369, 0...  \n",
       "4  [0.015255776233971119, -0.003898625960573554, ...  "
      ]
     },
     "execution_count": 20,
     "metadata": {},
     "output_type": "execute_result"
    }
   ],
   "source": [
    "df2"
   ]
  },
  {
   "cell_type": "code",
   "execution_count": null,
   "id": "b983bf2c-0a90-4807-be59-8b8e17e0f110",
   "metadata": {},
   "outputs": [],
   "source": [
    "def get_embedding(text, model=\"text-embedding-ada-002\"):\n",
    "   text = text.replace(\"\\n\", \" \")\n",
    "   return openai.Embedding.create(input = [text], model=\"text-embedding-ada-002\")['data'][0]['embedding']\n",
    "\n",
    "#df['ada_embedding'] = df.co1mbined.apply(lambda x: get_embedding(x, model='text-embedding-ada-002'))\n",
    "#df.to_csv('output/embedded_1k_reviews.csv', index=False)"
   ]
  },
  {
   "cell_type": "code",
   "execution_count": null,
   "id": "6f72ad3e-dcda-47ab-98bc-d8d6bbffc318",
   "metadata": {},
   "outputs": [],
   "source": [
    "embeddings = OpenAIEmbeddings()\n",
    "\n",
    "few_shot_docs = [Document(page_content=question, metadata={'sql_query': few_shots[question]}) for question in few_shots.keys()]\n",
    "vector_db = FAISS.from_documents(few_shot_docs, embeddings)\n",
    "retriever = vector_db.as_retriever()"
   ]
  },
  {
   "cell_type": "markdown",
   "id": "718cc2ef-4f21-4cba-9403-24eae2415c0a",
   "metadata": {},
   "source": [
    "### Few Shot Prompting with code llama langchain and mysql\n",
    "https://medium.com/@yernenip/few-shot-prompting-with-codellama-langchain-and-mysql-94020ee16a08"
   ]
  },
  {
   "cell_type": "markdown",
   "id": "7933c258-9b01-4a9b-8c8a-32b50efbb92f",
   "metadata": {},
   "source": [
    "### Setting up the example prompts"
   ]
  },
  {
   "cell_type": "code",
   "execution_count": 24,
   "id": "9c76a328-90dd-4ca5-a025-8609ac8180fc",
   "metadata": {},
   "outputs": [],
   "source": [
    "from langchain.prompts.prompt import PromptTemplate\n",
    "\n",
    "examples = [\n",
    "        {\n",
    "            \"input\": \"How many customers are from district California?\",\n",
    "            \"sql_cmd\": \"SELECT COUNT(*) FROM customer cu JOIN address ad ON cu.address_id = ad.address_id \\\n",
    "            WHERE ad.district = 'California';\",\n",
    "            \"result\": \"[(9,)]\",\n",
    "            \"answer\": \"There are 9 customers from California\",\n",
    "        },\n",
    "        {\n",
    "            \"input\": \"How many customers are from city San Bernardino?\",\n",
    "            \"sql_cmd\": \"SELECT COUNT(*) FROM customer cu JOIN address ad ON cu.address_id = ad.address_id \\\n",
    "            JOIN city ci  ON ad.city_id = ci.city_id WHERE ci.city = 'San Bernardino';\",\n",
    "            \"result\": \"[(1,)]\",\n",
    "            \"answer\": \"There is 1 customer from San Bernardino\",\n",
    "        },\n",
    "        {\n",
    "            \"input\": \"How many customers are from country United States?\",\n",
    "            \"sql_cmd\": \"SELECT COUNT(*) FROM customer cu JOIN address ad ON cu.address_id = ad.address_id \\\n",
    "            JOIN city ci ON ad.city_id = ci.city_id JOIN country co ON ci.country_id = co.country_id \\\n",
    "            WHERE co.country = 'United States';\",\n",
    "            \"result\": \"[(36,)]\",\n",
    "            \"answer\": \"There are 36 customers from United States\",\n",
    "        },\n",
    "]\n",
    "\n",
    "example_prompt = PromptTemplate(\n",
    "    input_variables=[\"input\", \"sql_cmd\", \"result\", \"answer\",],\n",
    "    template=\"\\nQuestion: {input}\\nSQLQuery: {sql_cmd}\\nSQLResult: {result}\\nAnswer: {answer}\",\n",
    ")"
   ]
  },
  {
   "cell_type": "markdown",
   "id": "2ba56b39-51f9-4177-867c-ca63dae19a36",
   "metadata": {},
   "source": [
    "### Vectorizing the examples and using an example selector\n",
    "#### Using Chroma DB Vector Store - running in-memory"
   ]
  },
  {
   "cell_type": "code",
   "execution_count": 27,
   "id": "99e58d06-8d95-407b-aad8-902f2da7d96b",
   "metadata": {},
   "outputs": [],
   "source": [
    "# !pip install chromadb"
   ]
  },
  {
   "cell_type": "code",
   "execution_count": 28,
   "id": "61e88674-f238-48df-9d8c-929fe0f699ab",
   "metadata": {},
   "outputs": [],
   "source": [
    "from langchain.prompts import SemanticSimilarityExampleSelector\n",
    "from langchain.embeddings import HuggingFaceEmbeddings\n",
    "from langchain.vectorstores import Chroma\n",
    "\n",
    "\n",
    "embeddings = HuggingFaceEmbeddings()\n",
    "\n",
    "to_vectorize = [\" \".join(example.values()) for example in examples]\n",
    "\n",
    "vectorstore = Chroma.from_texts(to_vectorize, embeddings, metadatas=examples)\n",
    "\n",
    "example_selector = SemanticSimilarityExampleSelector(\n",
    "    vectorstore=vectorstore,\n",
    "    k=1,\n",
    ")"
   ]
  },
  {
   "cell_type": "markdown",
   "id": "c3b8019f-b139-4a66-a8bd-4c710d66f0e3",
   "metadata": {},
   "source": [
    "### Setting up the few shot prompt"
   ]
  },
  {
   "cell_type": "code",
   "execution_count": 30,
   "id": "e86eb183-bbb0-44ff-8cf7-1c7e7099ad64",
   "metadata": {},
   "outputs": [],
   "source": [
    "from langchain.prompts import FewShotPromptTemplate\n",
    "from langchain.chains.sql_database.prompt import PROMPT_SUFFIX, _mysql_prompt\n",
    "\n",
    "#print(PROMPT_SUFFIX)\n",
    "\n",
    "few_shot_prompt = FewShotPromptTemplate(\n",
    "    example_selector=example_selector,\n",
    "    example_prompt=example_prompt,\n",
    "    prefix=_mysql_prompt,\n",
    "    suffix=PROMPT_SUFFIX, \n",
    "    input_variables=[\"input\", \"table_info\", \"top_k\"], #These variables are used in the prefix and suffix\n",
    ")"
   ]
  },
  {
   "cell_type": "code",
   "execution_count": 31,
   "id": "473886d7-e031-4c5e-ba1c-03e6ee0e5581",
   "metadata": {},
   "outputs": [
    {
     "data": {
      "text/plain": [
       "'Only use the following tables:\\n{table_info}\\n\\nQuestion: {input}'"
      ]
     },
     "execution_count": 31,
     "metadata": {},
     "output_type": "execute_result"
    }
   ],
   "source": [
    "PROMPT_SUFFIX"
   ]
  },
  {
   "cell_type": "code",
   "execution_count": 32,
   "id": "6299c24e-3549-4f47-8fe4-75aed1ab032a",
   "metadata": {},
   "outputs": [
    {
     "data": {
      "text/plain": [
       "'You are a MySQL expert. Given an input question, first create a syntactically correct MySQL query to run, then look at the results of the query and return the answer to the input question.\\nUnless the user specifies in the question a specific number of examples to obtain, query for at most {top_k} results using the LIMIT clause as per MySQL. You can order the results to return the most informative data in the database.\\nNever query for all columns from a table. You must query only the columns that are needed to answer the question. Wrap each column name in backticks (`) to denote them as delimited identifiers.\\nPay attention to use only the column names you can see in the tables below. Be careful to not query for columns that do not exist. Also, pay attention to which column is in which table.\\nPay attention to use CURDATE() function to get the current date, if the question involves \"today\".\\n\\nUse the following format:\\n\\nQuestion: Question here\\nSQLQuery: SQL Query to run\\nSQLResult: Result of the SQLQuery\\nAnswer: Final answer here\\n\\n'"
      ]
     },
     "execution_count": 32,
     "metadata": {},
     "output_type": "execute_result"
    }
   ],
   "source": [
    "_mysql_prompt"
   ]
  },
  {
   "cell_type": "markdown",
   "id": "ecf69d37-1ef1-42ad-a394-793844e5740b",
   "metadata": {},
   "source": [
    "The _mysql_prompt and PROMPT_SUFFIX variables contain additional prompt text \n",
    "that provides instructions to give more context to the LLM. They also include the input variables."
   ]
  },
  {
   "cell_type": "markdown",
   "id": "fd1b1476-2e3c-45a2-81aa-1347235f6798",
   "metadata": {},
   "source": [
    "### Calling the LLM with few shot prompting\n",
    "<br> Finally, let’s prompt the LLM using the few-shot prompt and examine the result. <br>\n",
    "My question differs slightly from the example; I replaced “United States” with “Canada.”\n"
   ]
  },
  {
   "cell_type": "code",
   "execution_count": null,
   "id": "c0c39d75-a0c1-4453-a294-a51238ee6be7",
   "metadata": {},
   "outputs": [],
   "source": [
    "local_chain = SQLDatabaseChain.from_llm(llm, db, prompt=few_shot_prompt, use_query_checker=True, \n",
    "                                        verbose=True, return_sql=False,)\n",
    "local_chain.run(\"How many customers are from country Canada?\")"
   ]
  },
  {
   "cell_type": "code",
   "execution_count": 33,
   "id": "8cac8123-0504-456d-aa75-76fe79753807",
   "metadata": {},
   "outputs": [
    {
     "data": {
      "text/plain": [
       "FewShotPromptTemplate(input_variables=['input', 'table_info', 'top_k'], example_selector=SemanticSimilarityExampleSelector(vectorstore=<langchain.vectorstores.chroma.Chroma object at 0x1549d20d0>, k=1, example_keys=None, input_keys=None), example_prompt=PromptTemplate(input_variables=['input', 'sql_cmd', 'result', 'answer'], template='\\nQuestion: {input}\\nSQLQuery: {sql_cmd}\\nSQLResult: {result}\\nAnswer: {answer}'), suffix='Only use the following tables:\\n{table_info}\\n\\nQuestion: {input}', prefix='You are a MySQL expert. Given an input question, first create a syntactically correct MySQL query to run, then look at the results of the query and return the answer to the input question.\\nUnless the user specifies in the question a specific number of examples to obtain, query for at most {top_k} results using the LIMIT clause as per MySQL. You can order the results to return the most informative data in the database.\\nNever query for all columns from a table. You must query only the columns that are needed to answer the question. Wrap each column name in backticks (`) to denote them as delimited identifiers.\\nPay attention to use only the column names you can see in the tables below. Be careful to not query for columns that do not exist. Also, pay attention to which column is in which table.\\nPay attention to use CURDATE() function to get the current date, if the question involves \"today\".\\n\\nUse the following format:\\n\\nQuestion: Question here\\nSQLQuery: SQL Query to run\\nSQLResult: Result of the SQLQuery\\nAnswer: Final answer here\\n\\n')"
      ]
     },
     "execution_count": 33,
     "metadata": {},
     "output_type": "execute_result"
    }
   ],
   "source": []
  },
  {
   "cell_type": "code",
   "execution_count": null,
   "id": "68425908-aaab-47fd-a96d-28b576e566c7",
   "metadata": {},
   "outputs": [],
   "source": [
    "few_shots = {'List all artists.': 'SELECT * FROM artists;',\n",
    "#              \"Find all albums for the artist 'AC/DC'.\": \"SELECT * FROM albums WHERE ArtistId = (SELECT ArtistId FROM artists WHERE Name = 'AC/DC');\",\n",
    "#              \"List all tracks in the 'Rock' genre.\": \"SELECT * FROM tracks WHERE GenreId = (SELECT GenreId FROM genres WHERE Name = 'Rock');\",\n",
    "#              'Find the total duration of all tracks.': 'SELECT SUM(Milliseconds) FROM tracks;',\n",
    "#              'List all customers from Canada.': \"SELECT * FROM customers WHERE Country = 'Canada';\",\n",
    "#              'How many tracks are there in the album with ID 5?': 'SELECT COUNT(*) FROM tracks WHERE AlbumId = 5;',\n",
    "#              'Find the total number of invoices.': 'SELECT COUNT(*) FROM invoices;',\n",
    "#              'List all tracks that are longer than 5 minutes.': 'SELECT * FROM tracks WHERE Milliseconds > 300000;',\n",
    "#              'Who are the top 5 customers by total purchase?': 'SELECT CustomerId, SUM(Total) AS TotalPurchase FROM invoices GROUP BY CustomerId ORDER BY TotalPurchase DESC LIMIT 5;',\n",
    "#              'Which albums are from the year 2000?': \"SELECT * FROM albums WHERE strftime('%Y', ReleaseDate) = '2000';\",\n",
    "#              'How many employees are there': 'SELECT COUNT(*) FROM \"employee\"'\n",
    "#             }"
   ]
  }
 ],
 "metadata": {
  "kernelspec": {
   "display_name": "Python 3 (ipykernel)",
   "language": "python",
   "name": "python3"
  },
  "language_info": {
   "codemirror_mode": {
    "name": "ipython",
    "version": 3
   },
   "file_extension": ".py",
   "mimetype": "text/x-python",
   "name": "python",
   "nbconvert_exporter": "python",
   "pygments_lexer": "ipython3",
   "version": "3.11.5"
  }
 },
 "nbformat": 4,
 "nbformat_minor": 5
}
