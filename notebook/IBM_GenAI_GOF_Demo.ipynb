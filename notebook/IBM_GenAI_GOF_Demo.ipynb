{
 "cells": [
  {
   "cell_type": "code",
   "execution_count": null,
   "id": "7a47d2d1-ae1c-4cb2-bbed-cf40d111cb65",
   "metadata": {},
   "outputs": [],
   "source": [
    "#! pip install ibm-generative-ai \n",
    "#!pip install ibm-generative-ai[langchain] # IBM GenAI langchain interface\n",
    "#! pip install langchain-experimental # for SQL Database Chain -- recently moved to -experimental module\n",
    "\n",
    "from dotenv import load_dotenv, dotenv_values\n",
    "from genai.credentials import Credentials\n",
    "from genai.model import Model\n",
    "from genai.schemas import GenerateParams\n",
    "import os\n",
    "import time\n",
    "from langchain.chat_models import ChatOpenAI\n",
    "from langchain.prompts.chat import (\n",
    "    ChatPromptTemplate,\n",
    "    SystemMessagePromptTemplate,\n",
    "    HumanMessagePromptTemplate,\n",
    ")\n",
    "from langchain.chains import LLMChain\n",
    "from langchain.schema import BaseOutputParser\n",
    "try:\n",
    "    from langchain import PromptTemplate\n",
    "    from langchain.chains import LLMChain, SimpleSequentialChain\n",
    "except ImportError:\n",
    "    raise ImportError(\"Could not import langchain: Please install ibm-generative-ai[langchain] extension.\")\n",
    "from genai.extensions.langchain import LangChainInterface\n",
    "from genai.schemas import GenerateParams\n",
    "\n",
    "from langchain.utilities import SQLDatabase\n",
    "from langchain.llms import OpenAI\n",
    "from langchain.chat_models import ChatOpenAI\n",
    "from langchain_experimental.sql import SQLDatabaseChain\n",
    "from langchain.prompts import PromptTemplate\n"
   ]
  },
  {
   "cell_type": "code",
   "execution_count": null,
   "id": "b948a69b-54f9-4f66-84f0-10c3e16c89d1",
   "metadata": {},
   "outputs": [],
   "source": [
    "load_dotenv()\n",
    "api_key = os.getenv(\"GENAI_KEY\", None)\n",
    "api_url = os.getenv(\"GENAI_API\", None)\n",
    "creds = Credentials(api_key, api_endpoint=api_url) # credentials object to access the LLM service\n"
   ]
  },
  {
   "cell_type": "code",
   "execution_count": null,
   "id": "96706495-08fa-46d8-821e-c2fc022992e5",
   "metadata": {},
   "outputs": [],
   "source": [
    "# Instantiate parameters for text generation\n",
    "params = GenerateParams(decoding_method=\"sample\", max_new_tokens=10)\n",
    "\n",
    "# Instantiate a model proxy object to send your requests\n",
    "flan_ul2 = Model(\"google/flan-ul2\", params=params, credentials=creds)\n",
    "\n",
    "prompts = [\"Hello! How are you?\", \"How's the weather?\"]\n",
    "for response in flan_ul2.generate(prompts):\n",
    "    print(response.generated_text)\n"
   ]
  },
  {
   "cell_type": "code",
   "execution_count": null,
   "id": "847f021c-073f-4a8f-9e20-aa56f9da1bf2",
   "metadata": {},
   "outputs": [],
   "source": [
    "\n",
    "print(\"\\n------------- Example (Model Talk)-------------\\n\")\n",
    "\n",
    "bob_params = GenerateParams(decoding_method=\"sample\", max_new_tokens=25, temperature=1)\n",
    "alice_params = GenerateParams(decoding_method=\"sample\", max_new_tokens=45, temperature=0.5)\n",
    "bob = Model(\"google/flan-ul2\", params=bob_params, credentials=creds)\n",
    "alice = Model(\"google/flan-t5-xxl\", params=alice_params, credentials=creds)\n",
    "\n",
    "sentence = \"Hello! How are you?\"\n",
    "\n",
    "print(f\"[Alice] --> {sentence}\")\n",
    "for i in range(10):\n",
    "    bob_response = bob.generate([sentence])\n",
    "    # from first batch get first result generated text\n",
    "    bob_gen = bob_response[0].generated_text\n",
    "    print(f\"[Bob] --> {bob_gen}\")\n",
    "\n",
    "    alice_response = alice.generate([bob_gen])\n",
    "    # from first batch get first result generated text\n",
    "    alice_gen = alice_response[0].generated_text\n",
    "    print(f\"[Alice] --> {alice_gen}\")\n",
    "\n",
    "    sentence = alice_gen\n",
    "    time.sleep(0.5)"
   ]
  },
  {
   "cell_type": "code",
   "execution_count": null,
   "id": "861e5f39-9333-48aa-902c-b16d89c5edbb",
   "metadata": {},
   "outputs": [],
   "source": [
    "params = GenerateParams(\n",
    "    decoding_method=\"sample\",\n",
    "    max_new_tokens=1,\n",
    "    min_new_tokens=1,\n",
    "    stream=False,\n",
    "    temperature=0.7,\n",
    "    top_k=50,\n",
    "    top_p=1,\n",
    "    return_options=ReturnOptions(input_text=False, input_tokens=True),\n",
    ")\n",
    "\n",
    "creds = Credentials(api_key, api_endpoint)\n",
    "model = Model(\"google/flan-ul2\", params=params, credentials=creds)"
   ]
  },
  {
   "cell_type": "markdown",
   "id": "c7f41f7b-d88f-4c1f-8fe4-141b08bd7815",
   "metadata": {},
   "source": [
    "### Langchain Extension"
   ]
  },
  {
   "cell_type": "code",
   "execution_count": null,
   "id": "6bdaad3d-3aca-4706-8e41-d3cc39f5a6e0",
   "metadata": {},
   "outputs": [],
   "source": [
    "\n",
    "# make sure you have a .env file under genai root with\n",
    "\n",
    "load_dotenv()\n",
    "api_key = os.getenv(\"GENAI_KEY\", None)\n",
    "api_endpoint = os.getenv(\"GENAI_API\", None)\n"
   ]
  },
  {
   "cell_type": "code",
   "execution_count": null,
   "id": "fe14c888-8840-4b90-a6bd-5c9313496878",
   "metadata": {},
   "outputs": [],
   "source": [
    "\n",
    "\n",
    "params = GenerateParams(\n",
    "    decoding_method=\"sample\",\n",
    " #   decoding_method=\"greedy\",\n",
    "    max_new_tokens=1536,\n",
    "    min_new_tokens=1,\n",
    "    stream=False,\n",
    "    temperature=0.05,\n",
    "    top_k=50,\n",
    "    top_p=1\n",
    ").dict()  # Langchain uses dictionaries to pass kwargs\n",
    "\n",
    "Models = [\"google/flan-ul2\",\"eleutherai/gpt-neox-20b\",\"tiiuae/falcon-40b\",\"google/flan-t5-xxl\"]\n",
    "m_idx = 0\n",
    "LLM = LangChainInterface(model=Models[m_idx], credentials=creds, params=params,verbose=True)\n",
    "\n",
    "class CommaSeparatedListOutputParser(BaseOutputParser):\n",
    "    \"\"\"Parse the output of an LLM call to a comma-separated list.\"\"\"\n",
    "\n",
    "\n",
    "    def parse(self, text: str):\n",
    "        \"\"\"Parse the output of an LLM call.\"\"\"\n",
    "        return text.strip().split(\", \")\n",
    "\n",
    "template = \"\"\"You are a helpful assistant who generates comma separated lists.\n",
    "A user will pass in a category, and you should generate 5 objects in that category in a comma separated list.\n",
    "ONLY return a comma separated list, and nothing more.\"\"\"\n",
    "system_message_prompt = SystemMessagePromptTemplate.from_template(template)\n",
    "human_template = \"{text}\"\n",
    "human_message_prompt = HumanMessagePromptTemplate.from_template(human_template)\n",
    "\n",
    "chat_prompt = ChatPromptTemplate.from_messages([system_message_prompt, human_message_prompt])\n",
    "chain = LLMChain(\n",
    "#    llm=ChatOpenAI(),\n",
    "    llm=LLM,\n",
    "    prompt=chat_prompt,\n",
    "    output_parser=CommaSeparatedListOutputParser()\n",
    ")\n",
    "chain.run(\"colors\")"
   ]
  },
  {
   "cell_type": "markdown",
   "id": "39d107a8-10c0-450f-b4f3-5572be5eb40d",
   "metadata": {},
   "source": [
    "### DB Interface"
   ]
  },
  {
   "cell_type": "code",
   "execution_count": null,
   "id": "cbee2843-6cbd-4d94-827a-beff78e52c7c",
   "metadata": {},
   "outputs": [],
   "source": [
    "\n",
    "\n",
    "db = SQLDatabase.from_uri(\"sqlite:///chinook.db\",include_tables=['Employee'],\n",
    "    sample_rows_in_table_info=2)\n",
    "db_chain = SQLDatabaseChain.from_llm(LLM, db, verbose=False, use_query_checker=True, top_k = 5) \n",
    "db_chain.run(\"How many employees are there?\")\n"
   ]
  },
  {
   "cell_type": "code",
   "execution_count": null,
   "id": "65322e43-4d4a-4538-956b-45e2198fbb97",
   "metadata": {},
   "outputs": [],
   "source": [
    "print(db.table_info)"
   ]
  },
  {
   "cell_type": "code",
   "execution_count": null,
   "id": "d3582b60-1475-4230-95d3-0a49e3d331cc",
   "metadata": {},
   "outputs": [],
   "source": [
    "\n",
    "OPENAI_API_KEY = os.getenv(\"OPENAI_API_KEY\", None)\n",
    "db = SQLDatabase.from_uri(\"sqlite:///chinook.db\")\n",
    "llm = OpenAI(temperature=0, verbose=False,top_p=1)\n",
    "db_chain_oai = SQLDatabaseChain.from_llm(llm, db, verbose=True, use_query_checker=True, top_k = 5) \n",
    "db_chain_oai.run(\"How many employees are there?\")"
   ]
  },
  {
   "cell_type": "code",
   "execution_count": null,
   "id": "5c15f15c-b297-4fce-8531-88c6ea097760",
   "metadata": {},
   "outputs": [],
   "source": [
    "db_chain.run(\"what are the firstname and lastname of the employees?\")"
   ]
  },
  {
   "cell_type": "code",
   "execution_count": null,
   "id": "14cdb7c1-8156-4aab-9ee6-5013fadcc2e3",
   "metadata": {},
   "outputs": [],
   "source": [
    "db_chain.run(\"what are the first name and last name of the employees?\")"
   ]
  },
  {
   "cell_type": "code",
   "execution_count": null,
   "id": "a2137b69-0ffa-4329-b43d-fb56c2b1658e",
   "metadata": {},
   "outputs": [],
   "source": [
    "db_chain_oai.run(\"what are the firstname and lastname of the employees?\")"
   ]
  },
  {
   "cell_type": "code",
   "execution_count": null,
   "id": "34ee0409-b9ed-4b57-8bcf-30525d934f17",
   "metadata": {},
   "outputs": [],
   "source": [
    "db_chain_oai.run(\"what are the first name and last name of the employees?\")"
   ]
  },
  {
   "cell_type": "code",
   "execution_count": null,
   "id": "80aaf050-7964-4c00-a59b-422d16af3e3c",
   "metadata": {},
   "outputs": [],
   "source": [
    "\n",
    "\n",
    "_DEFAULT_TEMPLATE = \"\"\"Given an input question, first create a syntactically correct sql query to run, then look at the results of the query and return the answer.\n",
    "Use the following format:\n",
    "\n",
    "Question: \"Question here\"\n",
    "SQLQuery: \"SQL Query to run\"\n",
    "SQLResult: \"Result of the SQLQuery\"\n",
    "Answer: \"Final answer here\"\n",
    "in table format\n",
    "\n",
    "Only use the following tables:\n",
    "CREATE TABLE [Album]\n",
    "(\n",
    "    [AlbumId] INTEGER  NOT NULL,\n",
    "    [Title] NVARCHAR(160)  NOT NULL,\n",
    "    [ArtistId] INTEGER  NOT NULL,\n",
    "    CONSTRAINT [PK_Album] PRIMARY KEY  ([AlbumId]),\n",
    "    FOREIGN KEY ([ArtistId]) REFERENCES [Artist] ([ArtistId]) \n",
    "\t\tON DELETE NO ACTION ON UPDATE NO ACTION\n",
    ");\n",
    "\n",
    "CREATE TABLE [Artist]\n",
    "(\n",
    "    [ArtistId] INTEGER  NOT NULL,\n",
    "    [Name] NVARCHAR(120),\n",
    "    CONSTRAINT [PK_Artist] PRIMARY KEY  ([ArtistId])\n",
    ");\n",
    "\n",
    "CREATE TABLE [Customer]\n",
    "(\n",
    "    [CustomerId] INTEGER  NOT NULL,\n",
    "    [FirstName] NVARCHAR(40)  NOT NULL,\n",
    "    [LastName] NVARCHAR(20)  NOT NULL,\n",
    "    [Company] NVARCHAR(80),\n",
    "    [Address] NVARCHAR(70),\n",
    "    [City] NVARCHAR(40),\n",
    "    [State] NVARCHAR(40),\n",
    "    [Country] NVARCHAR(40),\n",
    "    [PostalCode] NVARCHAR(10),\n",
    "    [Phone] NVARCHAR(24),\n",
    "    [Fax] NVARCHAR(24),\n",
    "    [Email] NVARCHAR(60)  NOT NULL,\n",
    "    [SupportRepId] INTEGER,\n",
    "    CONSTRAINT [PK_Customer] PRIMARY KEY  ([CustomerId]),\n",
    "    FOREIGN KEY ([SupportRepId]) REFERENCES [Employee] ([EmployeeId]) \n",
    "\t\tON DELETE NO ACTION ON UPDATE NO ACTION\n",
    ");\n",
    "\n",
    "CREATE TABLE [Employee]\n",
    "(\n",
    "    [EmployeeId] INTEGER  NOT NULL,\n",
    "    [LastName] NVARCHAR(20)  NOT NULL,\n",
    "    [FirstName] NVARCHAR(20)  NOT NULL,\n",
    "    [Title] NVARCHAR(30),\n",
    "    [ReportsTo] INTEGER,\n",
    "    [BirthDate] DATETIME,\n",
    "    [HireDate] DATETIME,\n",
    "    [Address] NVARCHAR(70),\n",
    "    [City] NVARCHAR(40),\n",
    "    [State] NVARCHAR(40),\n",
    "    [Country] NVARCHAR(40),\n",
    "    [PostalCode] NVARCHAR(10),\n",
    "    [Phone] NVARCHAR(24),\n",
    "    [Fax] NVARCHAR(24),\n",
    "    [Email] NVARCHAR(60),\n",
    "    CONSTRAINT [PK_Employee] PRIMARY KEY  ([EmployeeId]),\n",
    "    FOREIGN KEY ([ReportsTo]) REFERENCES [Employee] ([EmployeeId]) \n",
    "\t\tON DELETE NO ACTION ON UPDATE NO ACTION\n",
    ");\n",
    "\n",
    "CREATE TABLE [Genre]\n",
    "(\n",
    "    [GenreId] INTEGER  NOT NULL,\n",
    "    [Name] NVARCHAR(120),\n",
    "    CONSTRAINT [PK_Genre] PRIMARY KEY  ([GenreId])\n",
    ");\n",
    "\n",
    "CREATE TABLE [Invoice]\n",
    "(\n",
    "    [InvoiceId] INTEGER  NOT NULL,\n",
    "    [CustomerId] INTEGER  NOT NULL,\n",
    "    [InvoiceDate] DATETIME  NOT NULL,\n",
    "    [BillingAddress] NVARCHAR(70),\n",
    "    [BillingCity] NVARCHAR(40),\n",
    "    [BillingState] NVARCHAR(40),\n",
    "    [BillingCountry] NVARCHAR(40),\n",
    "    [BillingPostalCode] NVARCHAR(10),\n",
    "    [Total] NUMERIC(10,2)  NOT NULL,\n",
    "    CONSTRAINT [PK_Invoice] PRIMARY KEY  ([InvoiceId]),\n",
    "    FOREIGN KEY ([CustomerId]) REFERENCES [Customer] ([CustomerId]) \n",
    "\t\tON DELETE NO ACTION ON UPDATE NO ACTION\n",
    ");\n",
    "\n",
    "CREATE TABLE [InvoiceLine]\n",
    "(\n",
    "    [InvoiceLineId] INTEGER  NOT NULL,\n",
    "    [InvoiceId] INTEGER  NOT NULL,\n",
    "    [TrackId] INTEGER  NOT NULL,\n",
    "    [UnitPrice] NUMERIC(10,2)  NOT NULL,\n",
    "    [Quantity] INTEGER  NOT NULL,\n",
    "    CONSTRAINT [PK_InvoiceLine] PRIMARY KEY  ([InvoiceLineId]),\n",
    "    FOREIGN KEY ([InvoiceId]) REFERENCES [Invoice] ([InvoiceId]) \n",
    "\t\tON DELETE NO ACTION ON UPDATE NO ACTION,\n",
    "    FOREIGN KEY ([TrackId]) REFERENCES [Track] ([TrackId]) \n",
    "\t\tON DELETE NO ACTION ON UPDATE NO ACTION\n",
    ");\n",
    "\n",
    "CREATE TABLE [MediaType]\n",
    "(\n",
    "    [MediaTypeId] INTEGER  NOT NULL,\n",
    "    [Name] NVARCHAR(120),\n",
    "    CONSTRAINT [PK_MediaType] PRIMARY KEY  ([MediaTypeId])\n",
    ");\n",
    "\n",
    "CREATE TABLE [Playlist]\n",
    "(\n",
    "    [PlaylistId] INTEGER  NOT NULL,\n",
    "    [Name] NVARCHAR(120),\n",
    "    CONSTRAINT [PK_Playlist] PRIMARY KEY  ([PlaylistId])\n",
    ");\n",
    "\n",
    "CREATE TABLE [PlaylistTrack]\n",
    "(\n",
    "    [PlaylistId] INTEGER  NOT NULL,\n",
    "    [TrackId] INTEGER  NOT NULL,\n",
    "    CONSTRAINT [PK_PlaylistTrack] PRIMARY KEY  ([PlaylistId], [TrackId]),\n",
    "    FOREIGN KEY ([PlaylistId]) REFERENCES [Playlist] ([PlaylistId]) \n",
    "\t\tON DELETE NO ACTION ON UPDATE NO ACTION,\n",
    "    FOREIGN KEY ([TrackId]) REFERENCES [Track] ([TrackId]) \n",
    "\t\tON DELETE NO ACTION ON UPDATE NO ACTION\n",
    ");\n",
    "\n",
    "CREATE TABLE [Track]\n",
    "(\n",
    "    [TrackId] INTEGER  NOT NULL,\n",
    "    [Name] NVARCHAR(200)  NOT NULL,\n",
    "    [AlbumId] INTEGER,\n",
    "    [MediaTypeId] INTEGER  NOT NULL,\n",
    "    [GenreId] INTEGER,\n",
    "    [Composer] NVARCHAR(220),\n",
    "    [Milliseconds] INTEGER  NOT NULL,\n",
    "    [Bytes] INTEGER,\n",
    "    [UnitPrice] NUMERIC(10,2)  NOT NULL,\n",
    "    CONSTRAINT [PK_Track] PRIMARY KEY  ([TrackId]),\n",
    "    FOREIGN KEY ([AlbumId]) REFERENCES [Album] ([AlbumId]) \n",
    "\t\tON DELETE NO ACTION ON UPDATE NO ACTION,\n",
    "    FOREIGN KEY ([GenreId]) REFERENCES [Genre] ([GenreId]) \n",
    "\t\tON DELETE NO ACTION ON UPDATE NO ACTION,\n",
    "    FOREIGN KEY ([MediaTypeId]) REFERENCES [MediaType] ([MediaTypeId]) \n",
    "\t\tON DELETE NO ACTION ON UPDATE NO ACTION\n",
    ");\n",
    "\n",
    "\n",
    "If someone asks for the table foobar, they really mean the employee table.\n",
    "\n",
    "Question: {input}\"\"\"\n",
    "PROMPT = PromptTemplate(\n",
    "#    input_variables=[\"input\", \"table_info\",\"dialect\"], template=_DEFAULT_TEMPLATE\n",
    "    input_variables=[\"input\"], template=_DEFAULT_TEMPLATE\n",
    ")\n",
    "#PROMPT.format(table_info=['employee'], dialect='sql',input=\"How many employees are there?\")\n",
    "\n",
    "db_chain = SQLDatabaseChain.from_llm(LLM, db, prompt=PROMPT, verbose=True,use_query_checker=True)\n",
    "db_chain.run(\"How many employees are there?\")"
   ]
  },
  {
   "cell_type": "code",
   "execution_count": null,
   "id": "b738b9d6-bc68-419b-b69f-68033d446648",
   "metadata": {},
   "outputs": [],
   "source": [
    "db_chain.run(\"what are the firstname and lastname of the employees\")"
   ]
  },
  {
   "cell_type": "code",
   "execution_count": null,
   "id": "4951518b-606c-4442-848d-c6980972b630",
   "metadata": {},
   "outputs": [],
   "source": [
    "db_chain.run(\"what are the first name and last name of the employees\")"
   ]
  },
  {
   "cell_type": "code",
   "execution_count": null,
   "id": "82bfaa8c-098d-4fb5-bf40-3e591423d678",
   "metadata": {},
   "outputs": [],
   "source": [
    "db_chain.run(\"return a list of employee names in markup format\")"
   ]
  },
  {
   "cell_type": "code",
   "execution_count": null,
   "id": "464b36b9-b99c-4540-b4ec-42b7f7df7aa7",
   "metadata": {},
   "outputs": [],
   "source": [
    "db_chain_oai.run(\"return a list of employee names in markup format\")"
   ]
  },
  {
   "cell_type": "markdown",
   "id": "49f6c24e-d737-4e59-ac67-811b9b379145",
   "metadata": {},
   "source": [
    "<ul><li>Andrew Adams</li><li>Nancy Edwards</li><li>Jane Peacock</li><li>Margaret Park</li><li>Steve Johnson</li></ul>'"
   ]
  },
  {
   "cell_type": "code",
   "execution_count": null,
   "id": "d43691b7-e527-41d5-984d-3b7e25476bcd",
   "metadata": {},
   "outputs": [],
   "source": [
    " db_chain_oai.run(\"List the total sales per country. Which country's customers spent the most?\")"
   ]
  },
  {
   "cell_type": "code",
   "execution_count": null,
   "id": "55056c88-85af-4e2e-a362-19f070aea7c0",
   "metadata": {},
   "outputs": [],
   "source": [
    "db_chain.run(\"List the total sales per country. Which country's customers spent the most?\")"
   ]
  },
  {
   "cell_type": "code",
   "execution_count": null,
   "id": "a1c69d40-a976-4f90-b823-07f07830ddf6",
   "metadata": {},
   "outputs": [],
   "source": [
    "db_chain_oai.run(\"What are some example tracks by Bach?\")"
   ]
  },
  {
   "cell_type": "code",
   "execution_count": null,
   "id": "124d90fa-48c8-4a11-8883-409b42b29bca",
   "metadata": {},
   "outputs": [],
   "source": [
    "db_chain.run(\"What are some example tracks by Bach?\")"
   ]
  }
 ],
 "metadata": {
  "kernelspec": {
   "display_name": "Python 3 (ipykernel)",
   "language": "python",
   "name": "python3"
  },
  "language_info": {
   "codemirror_mode": {
    "name": "ipython",
    "version": 3
   },
   "file_extension": ".py",
   "mimetype": "text/x-python",
   "name": "python",
   "nbconvert_exporter": "python",
   "pygments_lexer": "ipython3",
   "version": "3.10.13"
  }
 },
 "nbformat": 4,
 "nbformat_minor": 5
}
